{
 "cells": [
  {
   "attachments": {},
   "cell_type": "markdown",
   "id": "b8240b03-00a7-41a0-a21d-10cf12500c2b",
   "metadata": {
    "tags": []
   },
   "source": [
    "# Convert raw dataset into pytorch geometric dataset and save them\n",
    "\n",
    "You can download the dataset from: "
   ]
  },
  {
   "attachments": {},
   "cell_type": "markdown",
   "id": "a77281a9",
   "metadata": {},
   "source": [
    "### Datasets ids\n",
    "\n",
    "* Training: 1-80\n",
    "* Test 1: 501-520\n",
    "* Test 2: 10001-10020\n",
    "* Test 3: 15001-15010"
   ]
  },
  {
   "cell_type": "code",
   "execution_count": null,
   "id": "df675dab",
   "metadata": {},
   "outputs": [],
   "source": [
    "from graph_creation import create_grid_dataset, save_database, create_mesh_dataset\n",
    "\n",
    "import os\n",
    " \n",
    "dataset_folder = 'datasets'\n",
    " \n",
    "if not os.path.exists(dataset_folder):\n",
    "    os.makedirs(dataset_folder)\n",
    " \n",
    "train_folder = os.path.join(dataset_folder, 'train')\n",
    "test_folder = os.path.join(dataset_folder, 'test')\n",
    " \n",
    "if not os.path.exists(train_folder):\n",
    "    os.makedirs(train_folder)\n",
    " \n",
    "if not os.path.exists(test_folder):\n",
    "    os.makedirs(test_folder)"
   ]
  },
  {
   "cell_type": "code",
   "execution_count": null,
   "id": "e2fd6b18",
   "metadata": {},
   "outputs": [],
   "source": []
  },
  {
   "cell_type": "code",
   "execution_count": null,
   "id": "d8bac565",
   "metadata": {},
   "outputs": [
    {
     "data": {
      "text/plain": [
       "'1.13.1+cpu'"
      ]
     },
     "execution_count": 5,
     "metadata": {},
     "output_type": "execute_result"
    }
   ],
   "source": [
    "import torch\n",
    "torch.__version__"
   ]
  },
  {
   "cell_type": "code",
   "execution_count": null,
   "id": "69681148",
   "metadata": {},
   "outputs": [],
   "source": [
    "dataset_folder = '.\\\\raw_datasets'\n",
    "\n",
    "simulation_ids = [\n",
    "    ['grid','datasets/train', 1, 80, 64],\n",
    "    ['grid','datasets/test', 500, 20, 64],\n",
    "    ['random_breach_grid','datasets/test', 10001, 20, 64],\n",
    "    ['big_random_breach_grid','datasets/test', 15001, 10, 128],\n",
    "]"
   ]
  },
  {
   "cell_type": "code",
   "execution_count": null,
   "id": "8afe021c",
   "metadata": {},
   "outputs": [],
   "source": [
    "# for dataset_name, dataset_dir, start_sim_id, n_sim, n_grids in simulation_ids:\n",
    "#     pyg_dataset = create_grid_dataset(dataset_folder, n_sim=n_sim, start_sim=start_sim_id, number_grids=n_grids)\n",
    "#     save_database(pyg_dataset, name=dataset_name, out_path=dataset_dir)"
   ]
  },
  {
   "cell_type": "code",
   "execution_count": 8,
   "id": "c30d21ca",
   "metadata": {},
   "outputs": [],
   "source": [
    "dataset_folder = 'C:\\\\Users\\\\bulte\\\\OneDrive - Stichting Deltares\\\\Documents\\\\MSc thesis\\\\Waterboards\\\\Rivierenland\\\\GNN_Datasets_50'\n",
    "\n",
    "simulation_ids = [\n",
    "    ['DR43','datasets/test', 1, 1],\n",
    "]"
   ]
  },
  {
   "cell_type": "code",
   "execution_count": 9,
   "id": "d7d9ee38",
   "metadata": {},
   "outputs": [
    {
     "name": "stderr",
     "output_type": "stream",
     "text": [
      "100%|██████████| 1/1 [00:02<00:00,  2.22s/it]\n"
     ]
    }
   ],
   "source": [
    "for dataset_name, dataset_dir, start_sim_id, n_sim in simulation_ids:\n",
    "    pyg_dataset = create_mesh_dataset(dataset_folder, n_sim=n_sim, start_sim=start_sim_id)\n",
    "    save_database(pyg_dataset, name=dataset_name, out_path=dataset_dir)"
   ]
  },
  {
   "attachments": {},
   "cell_type": "markdown",
   "id": "38d88589",
   "metadata": {},
   "source": [
    "This is how a sample of the dataset will look like:"
   ]
  },
  {
   "cell_type": "code",
   "execution_count": 10,
   "id": "4a6dad9a",
   "metadata": {},
   "outputs": [
    {
     "data": {
      "text/plain": [
       "Data(DEM=[11856], WD=[11856, 50], VX=[11856, 50], VY=[11856, 50], pos=[11856, 2], edge_index=[2, 23307], edge_distance=[23307], edge_relative_distance=[23307, 2], normal=[23307, 2], num_nodes=11856, area=[11856])"
      ]
     },
     "execution_count": 10,
     "metadata": {},
     "output_type": "execute_result"
    }
   ],
   "source": [
    "pyg_dataset[0]"
   ]
  },
  {
   "cell_type": "code",
   "execution_count": 12,
   "id": "3d06820c",
   "metadata": {},
   "outputs": [
    {
     "ename": "NameError",
     "evalue": "name 'DEM' is not defined",
     "output_type": "error",
     "traceback": [
      "\u001b[1;31m---------------------------------------------------------------------------\u001b[0m",
      "\u001b[1;31mNameError\u001b[0m                                 Traceback (most recent call last)",
      "\u001b[1;32mc:\\Users\\bulte\\SWE-GNN-paper-repository-\\database\\create_dataset.ipynb Cell 12\u001b[0m line \u001b[0;36m1\n\u001b[1;32m----> <a href='vscode-notebook-cell:/c%3A/Users/bulte/SWE-GNN-paper-repository-/database/create_dataset.ipynb#X14sZmlsZQ%3D%3D?line=0'>1</a>\u001b[0m data_type \u001b[39m=\u001b[39m DEM\u001b[39m.\u001b[39mdtype\n",
      "\u001b[1;31mNameError\u001b[0m: name 'DEM' is not defined"
     ]
    }
   ],
   "source": [
    "data_type = DEM.dtype"
   ]
  },
  {
   "cell_type": "code",
   "execution_count": null,
   "id": "dda1bcba",
   "metadata": {},
   "outputs": [],
   "source": []
  }
 ],
 "metadata": {
  "kernelspec": {
   "display_name": "Python 3.10.8 ('GDL')",
   "language": "python",
   "name": "python3"
  },
  "language_info": {
   "codemirror_mode": {
    "name": "ipython",
    "version": 3
   },
   "file_extension": ".py",
   "mimetype": "text/x-python",
   "name": "python",
   "nbconvert_exporter": "python",
   "pygments_lexer": "ipython3",
   "version": "3.10.12"
  },
  "vscode": {
   "interpreter": {
    "hash": "751ff9f3dce1395adb2e3795e68eeeed688a6558fa29bf9be6c36716ccf55324"
   }
  }
 },
 "nbformat": 4,
 "nbformat_minor": 5
}
